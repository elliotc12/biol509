{
 "cells": [
  {
   "cell_type": "markdown",
   "metadata": {
    "slideshow": {
     "slide_type": "slide"
    }
   },
   "source": [
    "# Linear regression example"
   ]
  },
  {
   "cell_type": "code",
   "execution_count": 15,
   "metadata": {
    "slideshow": {
     "slide_type": "fragment"
    }
   },
   "outputs": [
    {
     "data": {
      "text/html": [
       "<div>\n",
       "<style scoped>\n",
       "    .dataframe tbody tr th:only-of-type {\n",
       "        vertical-align: middle;\n",
       "    }\n",
       "\n",
       "    .dataframe tbody tr th {\n",
       "        vertical-align: top;\n",
       "    }\n",
       "\n",
       "    .dataframe thead th {\n",
       "        text-align: right;\n",
       "    }\n",
       "</style>\n",
       "<table border=\"1\" class=\"dataframe\">\n",
       "  <thead>\n",
       "    <tr style=\"text-align: right;\">\n",
       "      <th></th>\n",
       "      <th>SalePrice</th>\n",
       "      <th>FirstFlrSF</th>\n",
       "      <th>SecondFlrSF</th>\n",
       "    </tr>\n",
       "  </thead>\n",
       "  <tbody>\n",
       "    <tr>\n",
       "      <th>0</th>\n",
       "      <td>208500</td>\n",
       "      <td>856</td>\n",
       "      <td>854</td>\n",
       "    </tr>\n",
       "    <tr>\n",
       "      <th>1</th>\n",
       "      <td>181500</td>\n",
       "      <td>1262</td>\n",
       "      <td>0</td>\n",
       "    </tr>\n",
       "    <tr>\n",
       "      <th>2</th>\n",
       "      <td>223500</td>\n",
       "      <td>920</td>\n",
       "      <td>866</td>\n",
       "    </tr>\n",
       "    <tr>\n",
       "      <th>3</th>\n",
       "      <td>140000</td>\n",
       "      <td>961</td>\n",
       "      <td>756</td>\n",
       "    </tr>\n",
       "    <tr>\n",
       "      <th>4</th>\n",
       "      <td>250000</td>\n",
       "      <td>1145</td>\n",
       "      <td>1053</td>\n",
       "    </tr>\n",
       "  </tbody>\n",
       "</table>\n",
       "</div>"
      ],
      "text/plain": [
       "   SalePrice  FirstFlrSF  SecondFlrSF\n",
       "0     208500         856          854\n",
       "1     181500        1262            0\n",
       "2     223500         920          866\n",
       "3     140000         961          756\n",
       "4     250000        1145         1053"
      ]
     },
     "execution_count": 15,
     "metadata": {},
     "output_type": "execute_result"
    }
   ],
   "source": [
    "import pandas as pd\n",
    "import numpy as np\n",
    "\n",
    "ames = pd.read_table(\"ames_train.csv\", sep=\",\")\n",
    "ames = ames.loc[:, [\"SalePrice\", \"FirstFlrSF\", \"SecondFlrSF\"]]\n",
    "ames.head()"
   ]
  },
  {
   "cell_type": "markdown",
   "metadata": {
    "slideshow": {
     "slide_type": "slide"
    }
   },
   "source": [
    "# Manual Implementation"
   ]
  },
  {
   "cell_type": "markdown",
   "metadata": {
    "slideshow": {
     "slide_type": "fragment"
    }
   },
   "source": [
    "$ y = \\beta_0 * 1 + \\beta_1 * x_1$"
   ]
  },
  {
   "cell_type": "code",
   "execution_count": 26,
   "metadata": {
    "slideshow": {
     "slide_type": "slide"
    }
   },
   "outputs": [],
   "source": [
    "X_features = ames.loc[:, [\"FirstFlrSF\"]]\n",
    "#X_features.head()\n",
    "# Add an \"intercept\" term for beta_0\n",
    "#np.ones?\n",
    "n, m = X_features.shape\n",
    "dummy_ones = np.ones((n, 1))\n",
    "#np.hstack?\n",
    "X = np.hstack((dummy_ones, X_features))\n",
    "#print(X)\n",
    "X_features.head()\n",
    "y = ames.loc[:, \"SalePrice\"]\n",
    "#print(X)\n",
    "#print(y)"
   ]
  },
  {
   "cell_type": "code",
   "execution_count": 35,
   "metadata": {
    "slideshow": {
     "slide_type": "slide"
    }
   },
   "outputs": [
    {
     "name": "stdout",
     "output_type": "stream",
     "text": [
      "[ 36173.44679512    124.50062222]\n",
      "[ 142745.979416    193293.23203759  150714.01923813 ...,  184080.18599326\n",
      "  170385.11754899  192546.22830427]\n",
      "[[ 142745.979416    193293.23203759  150714.01923813 ...,  184080.18599326\n",
      "   170385.11754899  192546.22830427]]\n",
      "prediction\ttruth\tabs_error\n",
      "[[ 142745.979416    193293.23203759  150714.01923813 ...,  184080.18599326\n",
      "   170385.11754899  192546.22830427]]\t208500\t[[ 65754.  15207.  57786. ...,  24420.  38115.  15954.]]\n"
     ]
    }
   ],
   "source": [
    "solution, sum_of_square_residuals, rank, singvals = np.linalg.lstsq(X, y)\n",
    "print(solution)\n",
    "#print(X[:, 1])\n",
    "preds_manual = solution[0] * 1 + solution[1] * X[:, 1]\n",
    "print(preds_manual)\n",
    "preds_manual = np.matrix(solution) * np.transpose(X)\n",
    "print(preds_manual)\n",
    "#print(X[790, 1])\n",
    "#print(solution[0] * 1 + solution[1] * X[790, 1])\n",
    "print(\"prediction\\ttruth\\tabs_error\")\n",
    "print(\"\\n\".join([\"{}\\t{}\\t{}\".format(pred, truth, np.round(abs(pred-truth))) for pred, truth in zip(preds_manual, y)]))"
   ]
  },
  {
   "cell_type": "markdown",
   "metadata": {
    "slideshow": {
     "slide_type": "slide"
    }
   },
   "source": [
    "# SKLearn Implementation"
   ]
  },
  {
   "cell_type": "code",
   "execution_count": null,
   "metadata": {
    "collapsed": true,
    "scrolled": true,
    "slideshow": {
     "slide_type": "slide"
    }
   },
   "outputs": [],
   "source": [
    "from sklearn.linear_model import LinearRegression\n",
    "\n",
    "#X = ames.loc[:, [\"FirstFlrSF\"]]\n",
    "#X.head()\n",
    "#lr = LinearRegression()\n",
    "#lr.fit(X, y) # train (identical syntax throughout SKLearn)\n",
    "#print(solution)\n",
    "#print(lr.intercept_, lr.coef_[0])\n",
    "#preds_sklearn = lr.predict(X) #predict\n",
    "#print(preds_sklearn)\n",
    "\n",
    "# Assessments\n",
    "#print(preds_manual)\n",
    "#all(np.isclose(preds_sklearn, preds_manual))\n",
    "#print(np.mean(abs(preds_sklearn - y)))"
   ]
  },
  {
   "cell_type": "markdown",
   "metadata": {
    "slideshow": {
     "slide_type": "slide"
    }
   },
   "source": [
    "# Manual Implementation (two features)"
   ]
  },
  {
   "cell_type": "code",
   "execution_count": null,
   "metadata": {
    "collapsed": true,
    "scrolled": false,
    "slideshow": {
     "slide_type": "slide"
    }
   },
   "outputs": [],
   "source": [
    "X_features = ames.loc[:, [\"FirstFlrSF\", \"SecondFlrSF\"]]\n",
    "#y = ames.loc[:, \"SalePrice\"]\n",
    "#n, m = X.shape\n",
    "\n",
    "# Add an \"intercept\" term for beta_0\n",
    "#dummy_ones = np.ones((n, 1))\n",
    "#X = np.hstack((dummy_ones, X_features))\n",
    "#print(X)\n",
    "\n",
    "#solution, sum_of_square_residuals, rank, singvals = np.linalg.lstsq(X, y)\n",
    "#print(solution)\n",
    "\n",
    "#preds_manual = solution[0] * 1 + solution[1] * X[:, 1] + solution[2] * X[:, 2]\n",
    "#print(preds_manual)"
   ]
  },
  {
   "cell_type": "markdown",
   "metadata": {
    "slideshow": {
     "slide_type": "slide"
    }
   },
   "source": [
    "# SKLearn Implementation (two features)"
   ]
  },
  {
   "cell_type": "code",
   "execution_count": null,
   "metadata": {
    "collapsed": true,
    "scrolled": true,
    "slideshow": {
     "slide_type": "slide"
    }
   },
   "outputs": [],
   "source": [
    "from sklearn.linear_model import LinearRegression\n",
    "\n",
    "#X = ames.loc[:, [\"FirstFlrSF\", \"SecondFlrSF\"]]\n",
    "#lr = LinearRegression()\n",
    "#lr.fit(X, y) # train\n",
    "#print(X)\n",
    "#print(lr.intercept_,  lr.coef_[0], lr.coef_[1])\n",
    "#print(solution)\n",
    "#preds_sklearn = lr.predict(X) #predict\n",
    "\n",
    "# Assessments\n",
    "#print(preds_sklearn)\n",
    "#print(preds_manual)\n",
    "#all(np.isclose(preds_sklearn, preds_manual))\n",
    "#print(np.mean(abs(preds_sklearn - y)))"
   ]
  },
  {
   "cell_type": "markdown",
   "metadata": {
    "slideshow": {
     "slide_type": "slide"
    }
   },
   "source": [
    "# Normalization?"
   ]
  },
  {
   "cell_type": "code",
   "execution_count": null,
   "metadata": {
    "collapsed": true,
    "scrolled": true,
    "slideshow": {
     "slide_type": "slide"
    }
   },
   "outputs": [],
   "source": [
    "from sklearn import preprocessing\n",
    "\n",
    "#preds_raw = preds_sklearn\n",
    "\n",
    "#X = ames.loc[:, [\"FirstFlrSF\", \"SecondFlrSF\"]]\n",
    "#standard_scaler = preprocessing.StandardScaler()\n",
    "#scaler = standard_scaler.fit(X)\n",
    "#scaled_features = scaler.transform(X)\n",
    "#X_nrm = pd.DataFrame(scaled_features, index=X.index, columns=X.columns)\n",
    "#print(X_nrm.mean())\n",
    "#print(X_nrm.var(ddof=0))\n",
    "\n",
    "#lr_nrm = LinearRegression()\n",
    "\n",
    "# Train the model\n",
    "#lr_nrm.fit(X_nrm, y)\n",
    "#preds_nrm = lr_nrm.predict(X_nrm)\n",
    "#print(lr.coef_)\n",
    "#print(lr_nrm.coef_)\n",
    "\n",
    "#np.isclose(preds_raw, preds_nrm)\n",
    "#print(preds_raw)\n",
    "#print(preds_nrm)"
   ]
  }
 ],
 "metadata": {
  "celltoolbar": "Slideshow",
  "kernelspec": {
   "display_name": "Python 3",
   "language": "python",
   "name": "python3"
  },
  "language_info": {
   "codemirror_mode": {
    "name": "ipython",
    "version": 3
   },
   "file_extension": ".py",
   "mimetype": "text/x-python",
   "name": "python",
   "nbconvert_exporter": "python",
   "pygments_lexer": "ipython3",
   "version": "3.6.4"
  },
  "livereveal": {
   "start_slideshow_at": "selected"
  }
 },
 "nbformat": 4,
 "nbformat_minor": 2
}
